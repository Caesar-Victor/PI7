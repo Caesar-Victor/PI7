{
 "cells": [
  {
   "cell_type": "code",
   "execution_count": 4,
   "metadata": {},
   "outputs": [],
   "source": [
    "from MODBUS_ANTLR import *"
   ]
  },
  {
   "cell_type": "code",
   "execution_count": null,
   "metadata": {},
   "outputs": [],
   "source": [
    "varreGCode()"
   ]
  },
  {
   "cell_type": "code",
   "execution_count": null,
   "metadata": {},
   "outputs": [],
   "source": [
    "\n",
    "global SER\n",
    "# Função para enviar mensagem Modbus que\n",
    "def traj_envio(): #### CHECK ####\n",
    "    global SER\n",
    "    total_pontos, traj = varreGCode()\n",
    "    \n",
    "    #Converte o número de pontos pointsNumber para um \n",
    "    #formato hexadecimal de dois dígitos.\n",
    "\n",
    "    total_pontos = \"{:02X}\".format(total_pontos) \n",
    "    \n",
    "    # mensagem para indicar que vão SER enviados total_pontos pontos\n",
    "    mensagem = b':0115' + total_pontos.encode()  + traj.encode()\n",
    "    mensagem += calculaLRC(mensagem).encode() + b'\\x0D\\x0A'\n",
    "    SER.write(mensagem)\n",
    "    print(\"Mensagem de trajetória:\", mensagem)\n",
    "    \n",
    "    time.sleep(3)\n"
   ]
  },
  {
   "cell_type": "code",
   "execution_count": 3,
   "metadata": {},
   "outputs": [
    {
     "data": {
      "text/plain": [
       "[(-160, 420),\n",
       " (-154, 398),\n",
       " (-147, 378),\n",
       " (-141, 362),\n",
       " (-134, 348),\n",
       " (-128, 336),\n",
       " (-122, 327),\n",
       " (-115, 319),\n",
       " (-109, 312),\n",
       " (-102, 307),\n",
       " (-96, 303),\n",
       " (-90, 300),\n",
       " (-83, 298),\n",
       " (-77, 296),\n",
       " (-70, 295),\n",
       " (-64, 294),\n",
       " (-58, 294),\n",
       " (-51, 294),\n",
       " (-45, 294),\n",
       " (-38, 295),\n",
       " (-32, 295),\n",
       " (-26, 295),\n",
       " (-19, 296),\n",
       " (-13, 296),\n",
       " (-6, 297),\n",
       " (0, 297),\n",
       " (6, 298),\n",
       " (13, 298),\n",
       " (19, 299),\n",
       " (26, 300),\n",
       " (32, 301),\n",
       " (38, 302),\n",
       " (45, 304),\n",
       " (51, 305),\n",
       " (58, 308),\n",
       " (64, 310),\n",
       " (70, 313),\n",
       " (77, 316),\n",
       " (83, 320),\n",
       " (90, 325),\n",
       " (96, 330),\n",
       " (102, 336),\n",
       " (109, 342),\n",
       " (115, 349),\n",
       " (122, 357),\n",
       " (128, 366),\n",
       " (134, 375),\n",
       " (141, 385),\n",
       " (147, 396),\n",
       " (154, 408)]"
      ]
     },
     "execution_count": 3,
     "metadata": {},
     "output_type": "execute_result"
    }
   ],
   "source": [
    "def traj_envio(): #### CHECK ####\n",
    "    global SER\n",
    "    total_pontos, traj = varreGCode()\n",
    "    \n",
    "    #Converte o número de pontos pointsNumber para um \n",
    "    #formato hexadecimal de dois dígitos.\n",
    "\n",
    "    total_pontos = \"{:02X}\".format(total_pontos) \n",
    "    \n",
    "    # mensagem para indicar que vão SER enviados total_pontos pontos\n",
    "    mensagem = b':0115' + total_pontos.encode()  + traj.encode()\n",
    "    mensagem += calculaLRC(mensagem).encode() + b'\\x0D\\x0A'\n",
    "    SER.write(mensagem)\n",
    "    print(\"Mensagem de trajetória:\", mensagem)\n",
    "    \n",
    "    time.sleep(3)\n",
    "    \n",
    "varreGCode()\n"
   ]
  },
  {
   "cell_type": "code",
   "execution_count": null,
   "metadata": {},
   "outputs": [
    {
     "name": "stdout",
     "output_type": "stream",
     "text": [
      "Erro: [Errno 2] could not open port /dev/ttyACM1: [Errno 2] No such file or directory: '/dev/ttyACM1'\n",
      "Erro: [Errno 2] could not open port /dev/ttyACM2: [Errno 2] No such file or directory: '/dev/ttyACM2'\n",
      "Erro: [Errno 2] could not open port /dev/ttyACM3: [Errno 2] No such file or directory: '/dev/ttyACM3'\n",
      "Erro: [Errno 2] could not open port /dev/ttyACM4: [Errno 2] No such file or directory: '/dev/ttyACM4'\n",
      "Erro: [Errno 2] could not open port /dev/ttyACM5: [Errno 2] No such file or directory: '/dev/ttyACM5'\n",
      "Erro: [Errno 2] could not open port /dev/ttyACM6: [Errno 2] No such file or directory: '/dev/ttyACM6'\n",
      "Erro: [Errno 2] could not open port /dev/ttyACM7: [Errno 2] No such file or directory: '/dev/ttyACM7'\n",
      "Erro: [Errno 2] could not open port /dev/ttyACM8: [Errno 2] No such file or directory: '/dev/ttyACM8'\n",
      "Erro: [Errno 2] could not open port /dev/ttyACM9: [Errno 2] No such file or directory: '/dev/ttyACM9'\n"
     ]
    }
   ],
   "source": [
    "init_serial()"
   ]
  }
 ],
 "metadata": {
  "kernelspec": {
   "display_name": "Python 3",
   "language": "python",
   "name": "python3"
  },
  "language_info": {
   "codemirror_mode": {
    "name": "ipython",
    "version": 3
   },
   "file_extension": ".py",
   "mimetype": "text/x-python",
   "name": "python",
   "nbconvert_exporter": "python",
   "pygments_lexer": "ipython3",
   "version": "3.10.12"
  }
 },
 "nbformat": 4,
 "nbformat_minor": 2
}
